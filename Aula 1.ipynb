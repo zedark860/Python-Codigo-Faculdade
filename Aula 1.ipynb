{
 "cells": [
  {
   "cell_type": "code",
   "execution_count": 5,
   "metadata": {},
   "outputs": [
    {
     "name": "stdout",
     "output_type": "stream",
     "text": [
      "<class 'int'>\n",
      "<class 'str'>\n",
      "<class 'int'>\n"
     ]
    }
   ],
   "source": [
    "# Python é interpretador e com bitcode\n",
    "# definindo tipo de variáveis\n",
    "a: int = 1\n",
    "b: str = '1'\n",
    "c: str = 1 # fica como int e não string, cuidado\n",
    "\n",
    "print(type(a))\n",
    "print(type(b))\n",
    "print(type(c))"
   ]
  },
  {
   "cell_type": "code",
   "execution_count": null,
   "metadata": {},
   "outputs": [],
   "source": [
    "# Estrutura de dados\n",
    "\n",
    "lista = []\n",
    "tupla = ()\n",
    "dicionario = {}"
   ]
  },
  {
   "cell_type": "code",
   "execution_count": null,
   "metadata": {},
   "outputs": [],
   "source": [
    "# condicionais\n",
    "\n",
    "a = 10\n",
    "b = 15\n",
    "c = 20\n",
    "\n",
    "if a > b:\n",
    "    print(a)\n",
    "else:\n",
    "    print(b)\n",
    "\n",
    "# operador ternário\n",
    "print(a) if a > b else print(b)\n",
    "\n",
    "if a > b:\n",
    "    print(a)\n",
    "elif b > a:\n",
    "    print(b)\n",
    "else:\n",
    "    print(c)"
   ]
  },
  {
   "cell_type": "code",
   "execution_count": null,
   "metadata": {},
   "outputs": [],
   "source": [
    "# estrutura de repetição\n",
    "\n",
    "for i in range(1, 10):\n",
    "    print(i)\n",
    "\n",
    "minha_lista = ['casa', 'carro', 'roupa', 'pet']\n",
    "\n",
    "for item in minha_lista:\n",
    "    print(item)\n",
    "\n",
    "minha_tupla = ('casa', 'carro', 'roupa', 'pet')\n",
    "\n",
    "for elemento in minha_tupla:\n",
    "    print(elemento)\n",
    "\n",
    "meu_nome = 'Davi'\n",
    "\n",
    "for letra in meu_nome:\n",
    "    print(letra)"
   ]
  },
  {
   "cell_type": "code",
   "execution_count": null,
   "metadata": {},
   "outputs": [],
   "source": [
    "# list comprehention\n",
    "\n",
    "[(i, i**2) for i in range(1,10)]"
   ]
  }
 ],
 "metadata": {
  "kernelspec": {
   "display_name": "Python 3",
   "language": "python",
   "name": "python3"
  },
  "language_info": {
   "codemirror_mode": {
    "name": "ipython",
    "version": 3
   },
   "file_extension": ".py",
   "mimetype": "text/x-python",
   "name": "python",
   "nbconvert_exporter": "python",
   "pygments_lexer": "ipython3",
   "version": "3.12.2"
  }
 },
 "nbformat": 4,
 "nbformat_minor": 2
}
