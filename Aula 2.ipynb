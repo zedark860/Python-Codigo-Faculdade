{
 "cells": [
  {
   "cell_type": "markdown",
   "metadata": {},
   "source": [
    "###Crie um programa que realize a contagem de 0 a 20, exibindo somente os números pares####"
   ]
  },
  {
   "cell_type": "code",
   "execution_count": 30,
   "metadata": {},
   "outputs": [
    {
     "name": "stdout",
     "output_type": "stream",
     "text": [
      "O número par da vez é = 0\n",
      "O número par da vez é = 2\n",
      "O número par da vez é = 4\n",
      "O número par da vez é = 6\n",
      "O número par da vez é = 8\n",
      "O número par da vez é = 10\n",
      "O número par da vez é = 12\n",
      "O número par da vez é = 14\n",
      "O número par da vez é = 16\n",
      "O número par da vez é = 18\n",
      "O número par da vez é = 20\n"
     ]
    }
   ],
   "source": [
    "for i in range(0,21):\n",
    "    if i % 2 == 0:\n",
    "        print(f\"O número par da vez é = {i}\")"
   ]
  },
  {
   "cell_type": "markdown",
   "metadata": {},
   "source": [
    "###Crie um programa que realiza a progressão Aritmética de 20 elementos com o primeiro termo e razão definidos pelo usuário;###"
   ]
  },
  {
   "cell_type": "code",
   "execution_count": 33,
   "metadata": {},
   "outputs": [
    {
     "name": "stdout",
     "output_type": "stream",
     "text": [
      "termo: 1, a razão é 2\n",
      "termo: 2, a razão é 5\n",
      "termo: 3, a razão é 8\n",
      "termo: 4, a razão é 11\n",
      "termo: 5, a razão é 14\n",
      "termo: 6, a razão é 17\n",
      "termo: 7, a razão é 20\n",
      "termo: 8, a razão é 23\n",
      "termo: 9, a razão é 26\n",
      "termo: 10, a razão é 29\n",
      "termo: 11, a razão é 32\n",
      "termo: 12, a razão é 35\n",
      "termo: 13, a razão é 38\n",
      "termo: 14, a razão é 41\n",
      "termo: 15, a razão é 44\n",
      "termo: 16, a razão é 47\n",
      "termo: 17, a razão é 50\n",
      "termo: 18, a razão é 53\n",
      "termo: 19, a razão é 56\n",
      "termo: 20, a razão é 59\n"
     ]
    }
   ],
   "source": [
    "primeiro_termo, razao = list(map(int, input('Digite o primeiro termo e a razão: ').split()))\n",
    "\n",
    "qt_elementos = 20\n",
    "\n",
    "contador = 0\n",
    "for i in range(primeiro_termo, primeiro_termo + qt_elementos * razao,razao):\n",
    "    contador+=1\n",
    "    print(f\"termo: \" + str(contador) + f\", a razão é {i}\")"
   ]
  },
  {
   "cell_type": "markdown",
   "metadata": {},
   "source": [
    "###Crie um programa que exibe em tela a tabuada de determinado número fornecido pelo usuário;###"
   ]
  },
  {
   "cell_type": "code",
   "execution_count": 19,
   "metadata": {},
   "outputs": [
    {
     "name": "stdout",
     "output_type": "stream",
     "text": [
      "2 * 1 = 2\n",
      "2 * 2 = 4\n",
      "2 * 3 = 6\n",
      "2 * 4 = 8\n",
      "2 * 5 = 10\n",
      "2 * 6 = 12\n",
      "2 * 7 = 14\n",
      "2 * 8 = 16\n",
      "2 * 9 = 18\n",
      "2 * 10 = 20\n"
     ]
    }
   ],
   "source": [
    "multiplicador = int(input(\"Digite o multiplicador: \").strip())\n",
    "\n",
    "if not multiplicador:\n",
    "    print(\"O usuário não digitou\")\n",
    "\n",
    "for i in range(1,11):\n",
    "    print(f\"{multiplicador} * {i} = {i*multiplicador}\")"
   ]
  },
  {
   "cell_type": "markdown",
   "metadata": {},
   "source": [
    "###Crie um programa que realiza a contagem de 1 até 100, usando apenas números ímpares. Ao final, deve exibir em tela quantos foram encontrados e exibir sua soma;###"
   ]
  },
  {
   "cell_type": "code",
   "execution_count": 31,
   "metadata": {},
   "outputs": [
    {
     "name": "stdout",
     "output_type": "stream",
     "text": [
      "A soma dos números é 2500\n",
      "A lista de números impares é:\n",
      "[1, 3, 5, 7, 9, 11, 13, 15, 17, 19, 21, 23, 25, 27, 29, 31, 33, 35, 37, 39, 41, 43, 45, 47, 49, 51, 53, 55, 57, 59, 61, 63, 65, 67, 69, 71, 73, 75, 77, 79, 81, 83, 85, 87, 89, 91, 93, 95, 97, 99]\n",
      "A quantidade de números encontrado é 50\n"
     ]
    }
   ],
   "source": [
    "lista_num_impar = []\n",
    "soma = 0 \n",
    "\n",
    "for i in range(1,101):\n",
    "    if i % 2 == 1:\n",
    "        soma+=i\n",
    "        lista_num_impar.append(i)\n",
    "\n",
    "print(f\"A soma dos números é {soma}\")\n",
    "print(f\"A lista de números impares é:\\n{lista_num_impar}\")\n",
    "print(f\"A quantidade de números encontrado é {len(lista_num_impar)}\")"
   ]
  }
 ],
 "metadata": {
  "kernelspec": {
   "display_name": "Python 3",
   "language": "python",
   "name": "python3"
  },
  "language_info": {
   "codemirror_mode": {
    "name": "ipython",
    "version": 3
   },
   "file_extension": ".py",
   "mimetype": "text/x-python",
   "name": "python",
   "nbconvert_exporter": "python",
   "pygments_lexer": "ipython3",
   "version": "3.12.2"
  }
 },
 "nbformat": 4,
 "nbformat_minor": 2
}
