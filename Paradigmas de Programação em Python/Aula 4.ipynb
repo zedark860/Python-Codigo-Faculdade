{
 "cells": [
  {
   "cell_type": "code",
   "execution_count": 2,
   "metadata": {},
   "outputs": [
    {
     "name": "stdout",
     "output_type": "stream",
     "text": [
      "Essa letra t está na palavra-chave\n",
      "Você errou, você tem 4 tentativas restantes.\n",
      "Você errou, você tem 3 tentativas restantes.\n",
      "Essa letra e está na palavra-chave\n",
      "Essa letra s está na palavra-chave\n",
      "Você acertou a palavra chave: teste\n"
     ]
    }
   ],
   "source": [
    "def armazenar_parametros():\n",
    "    # primeiro formular palavra\n",
    "    palavra_chave = \"teste\"\n",
    "\n",
    "    # solicitar ao usuário para chutar\n",
    "    letra_chute = input(\"Digite a letra de chute: \").strip().lower()\n",
    "\n",
    "    # Número de tentativas\n",
    "    tentativas = 5\n",
    "\n",
    "    # Passar paramêtros de retorno\n",
    "    return (palavra_chave, letra_chute, tentativas)\n",
    "\n",
    "def executar_jogo_forca(palavra_chave, letra_chute, tentativas):\n",
    "    # Criar lista sem letras inicial\n",
    "    lista_de_letras = []\n",
    "\n",
    "    while True:\n",
    "        # Caso a letra já esteja na lista só vai para a próxima letra\n",
    "        if letra_chute in lista_de_letras:\n",
    "            print(f\"Esta letra já foi escolhida: {letra_chute}\")\n",
    "        # Verifica se a letra de chute está em palavra chave\n",
    "        elif letra_chute in palavra_chave:\n",
    "            # Se a letra estiver mostra ela na tela e adiciona, na lista\n",
    "            print(f\"Essa letra {letra_chute} está na palavra-chave\")\n",
    "            lista_de_letras.append(letra_chute)\n",
    "\n",
    "            # Setar a variável como True, ela continua como True se todas as letras estiverem certas\n",
    "            acertou_todas_letras = True\n",
    "            for letra in palavra_chave:\n",
    "                # Verifica se a letra está na lista, caso não esteja sai do loop for\n",
    "                if letra not in lista_de_letras:\n",
    "                    acertou_todas_letras = False\n",
    "                    break\n",
    "\n",
    "            # Caso todas as letras estiverem certas e a variável esteja com True, o programa termina \n",
    "            if acertou_todas_letras:\n",
    "                print(\"Você acertou a palavra chave:\", palavra_chave)\n",
    "                break\n",
    "        \n",
    "        # Caso o usuário erre a letra diminui às tentativas e mostra quantos restam\n",
    "        else:\n",
    "            tentativas -= 1\n",
    "            print(f\"Você errou, você tem {tentativas} tentativas restantes.\")\n",
    "            # Caso acabe as tentivas sai do loop while\n",
    "            if tentativas == 0:\n",
    "                print(\"Infelizmente você perdeu :(\")\n",
    "                break\n",
    "        \n",
    "        # Pergunta se o usuário deseja continuar jogando ou sair, caso saia termina o loop while\n",
    "        opcao = input(\"Deseja continuar jogando? (s/n): \").strip().lower()\n",
    "\n",
    "        if opcao != \"s\" and opcao != \"sim\":\n",
    "            print(\"Jogo finalizado!\")\n",
    "            break\n",
    "        \n",
    "        # Pede ao usuário para digitar outra letra\n",
    "        letra_chute = input(\"Digite outra letra de chute: \").strip().lower()\n",
    "\n",
    "if __name__ == \"__main__\":\n",
    "    # Passando parâmetros para a função e executando-as\n",
    "    palavra_chave, letra_chute, tentativas = armazenar_parametros()\n",
    "    executar_jogo_forca(palavra_chave, letra_chute, tentativas)"
   ]
  }
 ],
 "metadata": {
  "kernelspec": {
   "display_name": "Python 3",
   "language": "python",
   "name": "python3"
  },
  "language_info": {
   "codemirror_mode": {
    "name": "ipython",
    "version": 3
   },
   "file_extension": ".py",
   "mimetype": "text/x-python",
   "name": "python",
   "nbconvert_exporter": "python",
   "pygments_lexer": "ipython3",
   "version": "3.12.2"
  }
 },
 "nbformat": 4,
 "nbformat_minor": 2
}
