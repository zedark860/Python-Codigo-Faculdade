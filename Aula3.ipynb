{
 "cells": [
  {
   "cell_type": "markdown",
   "metadata": {},
   "source": [
    "### Crie uma função que recebe um nome como parâmetro e exibe em tela uma mensagem de boas-vindas. O nome dever ser fornecido pelo usuário, incorporado na mensagem de boas vindas da fução;"
   ]
  },
  {
   "cell_type": "code",
   "execution_count": 4,
   "metadata": {},
   "outputs": [
    {
     "name": "stdout",
     "output_type": "stream",
     "text": [
      "O nome deve conter apenas letras.\n",
      "Digite novamente!\n",
      "Boas vindas Davi\n"
     ]
    }
   ],
   "source": [
    "# Define uma função lambda que imprime uma mensagem de boas-vindas com o nome fornecido\n",
    "mostrar_nome = lambda nome: print(\"Boas vindas\", nome)\n",
    "\n",
    "# Loop infinito para solicitar o nome do usuário até que um nome válido seja inserido\n",
    "while True:\n",
    "    # Solicita ao usuário que insira seu nome e remove espaços em branco extras\n",
    "    nome = input(\"Digite o seu nome: \").strip()\n",
    "\n",
    "    # Verifica se o nome contém apenas letras\n",
    "    if nome.isalpha():\n",
    "        # Se o nome for válido (contém apenas letras), exibe uma mensagem de boas-vindas com o nome\n",
    "        mostrar_nome(nome)\n",
    "        break  # Sai do loop, uma vez que o nome é válido\n",
    "\n",
    "    else:\n",
    "        # Se o nome não contiver apenas letras, imprime uma mensagem de erro\n",
    "        print(\"O nome deve conter apenas letras.\\nDigite novamente!\")\n",
    "\n",
    "        # Continua para a próxima iteração do loop para solicitar um novo nome\n",
    "        continue\n"
   ]
  },
  {
   "cell_type": "markdown",
   "metadata": {},
   "source": [
    "### Crie uma função que recebe um valor digitado pelo usuário e eleva esse valor ao quadrado;"
   ]
  },
  {
   "cell_type": "code",
   "execution_count": null,
   "metadata": {},
   "outputs": [],
   "source": [
    "# Define uma função lambda que imprime o resultado do quadrado de um número\n",
    "elevar_ao_quadrado = lambda num: print(\"O resultado do quadrado é:\", num**2)\n",
    "\n",
    "# Loop infinito para solicitar um número inteiro ao usuário\n",
    "while True:\n",
    "    try:\n",
    "        # Solicita ao usuário que insira um número para elevar ao quadrado e converte para float\n",
    "        num = int(input(\"Digite o número para elevar ao quadrado\"))\n",
    "\n",
    "        # Verifica se o número inserido é um número inteiro\n",
    "        if num.is_integer():\n",
    "            # Chama a função lambda para elevar ao quadrado o número fornecido\n",
    "            elevar_ao_quadrado(num)\n",
    "            break # Sai do loop após calcular o quadrado do número\n",
    "    \n",
    "    # Captura exceções caso o valor inserido pelo usuário não seja um número\n",
    "    except ValueError:\n",
    "        print(\"O valor digitado não é um número!\\nDigite novamente!\")\n",
    "        continue # Continua para a próxima iteração do loop para solicitar um novo número"
   ]
  },
  {
   "cell_type": "markdown",
   "metadata": {},
   "source": [
    "### Crie uma funçao com dois parâmetros relacionados ao nome e sobrenome de uma pessoa, a função deve retornar uma mensagem de boas-vindas e esses dados devem ser digitados pelos pelo usuário;"
   ]
  },
  {
   "cell_type": "code",
   "execution_count": 9,
   "metadata": {},
   "outputs": [
    {
     "name": "stdout",
     "output_type": "stream",
     "text": [
      "Boas vindas Davi Nascimento\n"
     ]
    }
   ],
   "source": [
    "# Define uma função lambda que imprime uma mensagem de boas-vindas com o nome fornecido\n",
    "mostrar_nome = lambda nome, sobrenome: print(\"Boas vindas\", nome, sobrenome)\n",
    "\n",
    "# Loop infinito para solicitar o nome do usuário até que um nome válido seja inserido\n",
    "while True:\n",
    "    # Solicita ao usuário que insira seu nome e sobrenome, remove espaços em branco extras \n",
    "    # e os divide em uma lista de strings\n",
    "    nome, sobrenome = list(map(str, input(\"Digite o seu nome: \").strip().split()))\n",
    "\n",
    "    # Verifica se o nome contém apenas letras e se o sobrenome contém apenas letras\n",
    "    if nome.isalpha() and sobrenome.isalpha():\n",
    "        # Se o nome for válido (contém apenas letras), exibe uma mensagem de boas-vindas com o nome\n",
    "        mostrar_nome(nome, sobrenome)\n",
    "        break  # Sai do loop, uma vez que o nome é válido\n",
    "\n",
    "    else:\n",
    "        # Se o nome ou o sobrenome não contiverem apenas letras, imprime uma mensagem de erro\n",
    "        print(\"O nome e o sobrenome devem conter apenas letras.\\nDigite novamente!\")\n",
    "\n",
    "        # Continua para a próxima iteração do loop para solicitar um novo nome\n",
    "        continue"
   ]
  },
  {
   "cell_type": "markdown",
   "metadata": {},
   "source": [
    "### Bonus: Crie uma função de números de parâmetros indefinido, que realiza a soma dos números repassados como parâmetro, independente da quantidade de números;"
   ]
  },
  {
   "cell_type": "code",
   "execution_count": null,
   "metadata": {},
   "outputs": [],
   "source": [
    "def somar(nums):\n",
    "    # Verifica se a lista de números está vazia\n",
    "    if not nums:\n",
    "        print(\"Nenhum número foi fornecido para soma.\")\n",
    "        return\n",
    "    \n",
    "    # Se a lista de números não estiver vazia, imprime a soma dos números\n",
    "    print(f\"A soma dos números fornecidos é: {sum(nums)}\")\n",
    "\n",
    "def pegar_nums_usuario():\n",
    "    # Inicializa uma lista vazia para armazenar os números fornecidos pelo usuário\n",
    "    lista_de_numeros = []\n",
    "\n",
    "    # Loop infinito para solicitar a quantidade de números e os números ao usuário\n",
    "    while True:\n",
    "        try:\n",
    "            # Solicita ao usuário a quantidade de números para somar\n",
    "            quantidade_nums = int(input(\"Digite a quantidade de números para somar: \"))\n",
    "\n",
    "            # Loop para solicitar cada número individualmente e adicioná-lo à lista\n",
    "            for _ in range(quantidade_nums):\n",
    "                num = float(input(\"Digite o número: \"))  # Solicita um número ao usuário\n",
    "                lista_de_numeros.append(num)  # Adiciona o número à lista\n",
    "                print(f\"Número {num} adicionado!\")  # Informa ao usuário que o número foi adicionado\n",
    "\n",
    "            # Solicita ao usuário se deseja parar de inserir números\n",
    "            opcao = input(\"Caso deseja parar de inserir números digite 's' para sim, qualquer outra tecla para continuar: \").strip()\n",
    "\n",
    "            # Se o usuário digitar 's', retorna a lista de números\n",
    "            if opcao.lower() == 's':\n",
    "                return lista_de_numeros\n",
    "\n",
    "        # Captura uma exceção caso o valor inserido pelo usuário não seja um número\n",
    "        except ValueError as e:\n",
    "            print(\"O valor digitado está incorreto!\", e)\n",
    "            continue\n",
    "\n",
    "# Chama a função para pegar os números fornecidos pelo usuário\n",
    "numeros_para_somar = pegar_nums_usuario()\n",
    "\n",
    "# Chama a função para somar os números fornecidos pelo usuário\n",
    "somar(numeros_para_somar)"
   ]
  },
  {
   "cell_type": "code",
   "execution_count": 1,
   "metadata": {},
   "outputs": [
    {
     "name": "stdout",
     "output_type": "stream",
     "text": [
      "O resultado da soma é 60\n"
     ]
    }
   ],
   "source": [
    "# Outra forma de fazer\n",
    "soma = lambda *numeros: print(f\"O resultado da soma é {sum(numeros)}\") \n",
    "soma(10, 20, 30)"
   ]
  }
 ],
 "metadata": {
  "kernelspec": {
   "display_name": "Python 3",
   "language": "python",
   "name": "python3"
  },
  "language_info": {
   "codemirror_mode": {
    "name": "ipython",
    "version": 3
   },
   "file_extension": ".py",
   "mimetype": "text/x-python",
   "name": "python",
   "nbconvert_exporter": "python",
   "pygments_lexer": "ipython3",
   "version": "3.12.2"
  }
 },
 "nbformat": 4,
 "nbformat_minor": 2
}
